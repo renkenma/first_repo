{
 "cells": [
  {
   "cell_type": "markdown",
   "id": "28864418-eff8-43c3-8652-a0598c924d33",
   "metadata": {},
   "source": [
    "# Geoinformatik-Programmierpraktikum\n",
    "## Random Forest"
   ]
  },
  {
   "cell_type": "markdown",
   "id": "74fd4027-b08d-4342-a26c-03bf1dcbb43a",
   "metadata": {},
   "source": [
    "# Praktische Aufgabe:\n",
    "Die gestackte Landsat-Szene (ohne Indizes) soll mittels einer Random Forest Klassifikation in thematische Klassen eingeordnet werden, hierfür sind folgende Arbeitsschritte notwendig:\n",
    "- Erzeuge in QGIS Trainingsdaten für die LULC Klassen (identisch zu den Klassen des Entscheidungsbaums vergangener Woche)\n",
    "- Bereite die Trainingsdaten für die Klassifikation vor und Teile diese in Training und Test (Test in der kommenden Woche)\n",
    "- Führe eine Klassifikation mittes Random Forest und eigener Auswahl der Parameter `n_estimators` und `max_features` durch\n",
    "- Speicher das Ergebnis als Raster ab"
   ]
  },
  {
   "cell_type": "code",
   "execution_count": 1,
   "id": "5b47c6b6-7390-42a9-8e5c-0d693533ac87",
   "metadata": {},
   "outputs": [],
   "source": [
    "raster_ganze_Szene = r\"C:\\Users\\marvi\\Geoinformatik_Programmierpraktikum\\Daten\\Baender_gestacked\\all_bands.tif\"\n",
    "rasterized_output = r\"C:\\Users\\marvi\\Geoinformatik_Programmierpraktikum\\Daten\\Sitzung_3_rasterized_shp.tif\"\n",
    "punkte_shp = r\"C:\\Users\\marvi\\Geoinformatik_Programmierpraktikum\\Daten\\shapes\\Sitzung_3_SVM\\punkte_Sitzung_3.shp\"\n",
    "ergebnis_tif = r\"C:\\Users\\marvi\\Geoinformatik_Programmierpraktikum\\Daten\\Baender_gestacked\\klassifiziert_ergebnis_Sitzung_3.tif\""
   ]
  },
  {
   "cell_type": "code",
   "execution_count": 2,
   "id": "f9d9fd1d-912c-4586-bd86-e09a2aeb783a",
   "metadata": {},
   "outputs": [],
   "source": [
    "from osgeo import gdal, ogr\n",
    "def rasterize(rasterReference, shapefile, trainRaster, attribute):\n",
    " img = gdal.Open(rasterReference)\n",
    " shp= ogr.Open(shapefile)\n",
    " outDS = gdal.GetDriverByName('GTiff')\n",
    " outDS = outDS.Create(trainRaster, img.RasterXSize, img.RasterYSize,1, gdal.GDT_Byte)\n",
    " outDS.SetGeoTransform(img.GetGeoTransform())\n",
    " outDS.SetProjection(img.GetProjectionRef())\n",
    " gdal.RasterizeLayer(outDS,[1], shp.GetLayer(), options=[str(\"ATTRIBUTE=\" + attribute)])\n",
    " outDS = None\n",
    "#rasterize(r\"originalStack.tif\", r\"trainData.shp\",r\"trainData.tif\", \"FeatureNameShp\")"
   ]
  },
  {
   "cell_type": "code",
   "execution_count": 3,
   "id": "ca3b3cb6-86db-41e4-b05e-35407cacc602",
   "metadata": {},
   "outputs": [],
   "source": [
    "rasterize(raster_ganze_Szene, punkte_shp, rasterized_output, \"class\")"
   ]
  },
  {
   "cell_type": "code",
   "execution_count": 4,
   "id": "d1d2f06d-eb01-4871-a1ed-bbc3952d05c3",
   "metadata": {},
   "outputs": [
    {
     "name": "stdout",
     "output_type": "stream",
     "text": [
      "(280, 7)\n",
      "(280,)\n"
     ]
    }
   ],
   "source": [
    "# training data\n",
    "stack = gdal.Open(raster_ganze_Szene).ReadAsArray()\n",
    "trainNtest = gdal.Open(rasterized_output).ReadAsArray()\n",
    "# training spectra\n",
    "train = stack[:, trainNtest > 0].transpose()\n",
    "print(train.shape)\n",
    "# training labels\n",
    "labels = trainNtest[trainNtest > 0]\n",
    "print(labels.shape)"
   ]
  },
  {
   "cell_type": "code",
   "execution_count": 5,
   "id": "7cce27f6-4292-43f9-9f3a-39efd64bc1bc",
   "metadata": {},
   "outputs": [
    {
     "name": "stdout",
     "output_type": "stream",
     "text": [
      "(140, 7)\n",
      "(140, 7)\n",
      "(140,)\n",
      "(140,)\n"
     ]
    }
   ],
   "source": [
    "from sklearn.model_selection import train_test_split\n",
    "# train & test split\n",
    "X_train, X_test, y_train, y_test = train_test_split(train, labels, train_size = 0.5, test_size= 0.5)\n",
    "print(X_train.shape)\n",
    "print(X_test.shape)\n",
    "print(y_train.shape)\n",
    "print(y_test.shape)"
   ]
  },
  {
   "cell_type": "code",
   "execution_count": 6,
   "id": "c011201e-8c6b-4642-8ac4-28515e8010b2",
   "metadata": {},
   "outputs": [],
   "source": [
    " # Random Forest Model - Default Parameter\n",
    "from sklearn.ensemble import RandomForestClassifier\n",
    "randomForest = RandomForestClassifier(n_estimators = 100, max_features = \"sqrt\")"
   ]
  },
  {
   "cell_type": "code",
   "execution_count": 7,
   "id": "50b15ca7-c4b5-47d8-a1bb-db4cdb8d9d0a",
   "metadata": {},
   "outputs": [],
   "source": [
    "randomForest = randomForest.fit(X_train, y_train)"
   ]
  },
  {
   "cell_type": "code",
   "execution_count": 8,
   "id": "41e68285-95e8-4cce-a5de-6253c15ad567",
   "metadata": {},
   "outputs": [
    {
     "name": "stdout",
     "output_type": "stream",
     "text": [
      "(7, 353, 529)\n",
      "(7, 186737)\n",
      "(186737, 7)\n"
     ]
    }
   ],
   "source": [
    "print(stack.shape)\n",
    "# (7, 353, 529)\n",
    "targetShape = (stack.shape[0], stack.shape[1] * stack.shape[2])\n",
    "print(targetShape)\n",
    "# (7, 186737)\n",
    "stackShaped = stack.reshape(targetShape).transpose()\n",
    "print(stackShaped.shape)"
   ]
  },
  {
   "cell_type": "code",
   "execution_count": 9,
   "id": "6abde241-3da8-4deb-a1f3-f54d6f20b407",
   "metadata": {},
   "outputs": [
    {
     "name": "stdout",
     "output_type": "stream",
     "text": [
      "[7 7 3 ... 7 7 3]\n"
     ]
    }
   ],
   "source": [
    "predict = randomForest.predict(stackShaped)\n",
    "print(predict)"
   ]
  },
  {
   "cell_type": "code",
   "execution_count": 10,
   "id": "c5cd59d0-e965-4fbb-a097-5a81d09dae04",
   "metadata": {},
   "outputs": [
    {
     "name": "stdout",
     "output_type": "stream",
     "text": [
      "(353, 529)\n"
     ]
    }
   ],
   "source": [
    "classification = predict.reshape([stack.shape[1], stack.shape[2]])\n",
    "print(classification.shape)"
   ]
  },
  {
   "cell_type": "code",
   "execution_count": 13,
   "id": "efc77e44-02c9-4904-a8d8-276e7f0c6695",
   "metadata": {},
   "outputs": [],
   "source": [
    "from osgeo import osr\n",
    "def array2raster(originalImage, newImage, array):\n",
    "\n",
    "\traster = gdal.Open(originalImage)\n",
    "\tgeotransform = raster.GetGeoTransform()\n",
    "\toriginX = geotransform[0]\n",
    "\toriginY = geotransform[3]\n",
    "\tpixelWidth = geotransform[1]\n",
    "\tpixelHeight = geotransform[5]\n",
    "\tcols = raster.RasterXSize\n",
    "\trows = raster.RasterYSize\n",
    "\n",
    "\tdriver = gdal.GetDriverByName('Gtiff')\n",
    "\toutRaster = driver.Create(newImage, cols, rows, 1, gdal.GDT_Float32)\n",
    "\toutRaster.SetGeoTransform((originX, pixelWidth, 0, originY, 0, pixelHeight))\n",
    "\toutband = outRaster.GetRasterBand(1)\n",
    "\toutband.WriteArray(array)\n",
    "\toutRasterSRS = osr.SpatialReference()\n",
    "\toutRasterSRS.ImportFromWkt(raster.GetProjectionRef())\n",
    "\toutRaster.SetProjection(outRasterSRS.ExportToWkt())\n",
    "\toutband.FlushCache()"
   ]
  },
  {
   "cell_type": "code",
   "execution_count": 14,
   "id": "4799e33d-d5fc-49f1-830d-7706f1f6496d",
   "metadata": {},
   "outputs": [],
   "source": [
    "array2raster(raster_ganze_Szene, ergebnis_tif, classification)"
   ]
  }
 ],
 "metadata": {
  "kernelspec": {
   "display_name": "Python 3 (ipykernel)",
   "language": "python",
   "name": "python3"
  },
  "language_info": {
   "codemirror_mode": {
    "name": "ipython",
    "version": 3
   },
   "file_extension": ".py",
   "mimetype": "text/x-python",
   "name": "python",
   "nbconvert_exporter": "python",
   "pygments_lexer": "ipython3",
   "version": "3.9.13"
  }
 },
 "nbformat": 4,
 "nbformat_minor": 5
}
